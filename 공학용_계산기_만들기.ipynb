{
  "nbformat": 4,
  "nbformat_minor": 0,
  "metadata": {
    "colab": {
      "provenance": [],
      "gpuType": "T4",
      "authorship_tag": "ABX9TyOVdf+FFxycyrwaOYrDZb0/",
      "include_colab_link": true
    },
    "kernelspec": {
      "name": "python3",
      "display_name": "Python 3"
    },
    "language_info": {
      "name": "python"
    },
    "accelerator": "GPU"
  },
  "cells": [
    {
      "cell_type": "markdown",
      "metadata": {
        "id": "view-in-github",
        "colab_type": "text"
      },
      "source": [
        "<a href=\"https://colab.research.google.com/github/Dhan1117/react/blob/main/%EA%B3%B5%ED%95%99%EC%9A%A9_%EA%B3%84%EC%82%B0%EA%B8%B0_%EB%A7%8C%EB%93%A4%EA%B8%B0.ipynb\" target=\"_parent\"><img src=\"https://colab.research.google.com/assets/colab-badge.svg\" alt=\"Open In Colab\"/></a>"
      ]
    },
    {
      "cell_type": "markdown",
      "source": [
        "##eval함수를 이용한 계산기 셈플"
      ],
      "metadata": {
        "id": "N0-FD0yrHBrZ"
      }
    },
    {
      "cell_type": "code",
      "execution_count": 1,
      "metadata": {
        "colab": {
          "base_uri": "https://localhost:8080/",
          "height": 321
        },
        "id": "976SfcXfEX3h",
        "outputId": "696d1e9f-6739-4f7e-e055-d98aca82bf93"
      },
      "outputs": [
        {
          "output_type": "error",
          "ename": "KeyboardInterrupt",
          "evalue": "Interrupted by user",
          "traceback": [
            "\u001b[0;31m---------------------------------------------------------------------------\u001b[0m",
            "\u001b[0;31mKeyboardInterrupt\u001b[0m                         Traceback (most recent call last)",
            "\u001b[0;32m<ipython-input-1-163abb3ec54d>\u001b[0m in \u001b[0;36m<cell line: 0>\u001b[0;34m()\u001b[0m\n\u001b[1;32m     24\u001b[0m \u001b[0;34m\u001b[0m\u001b[0m\n\u001b[1;32m     25\u001b[0m \u001b[0;32mif\u001b[0m \u001b[0m__name__\u001b[0m \u001b[0;34m==\u001b[0m \u001b[0;34m\"__main__\"\u001b[0m\u001b[0;34m:\u001b[0m\u001b[0;34m\u001b[0m\u001b[0;34m\u001b[0m\u001b[0m\n\u001b[0;32m---> 26\u001b[0;31m     \u001b[0mcalculate\u001b[0m\u001b[0;34m(\u001b[0m\u001b[0;34m)\u001b[0m\u001b[0;34m\u001b[0m\u001b[0;34m\u001b[0m\u001b[0m\n\u001b[0m",
            "\u001b[0;32m<ipython-input-1-163abb3ec54d>\u001b[0m in \u001b[0;36mcalculate\u001b[0;34m()\u001b[0m\n\u001b[1;32m      8\u001b[0m     \u001b[0;32mwhile\u001b[0m \u001b[0;32mTrue\u001b[0m\u001b[0;34m:\u001b[0m\u001b[0;34m\u001b[0m\u001b[0;34m\u001b[0m\u001b[0m\n\u001b[1;32m      9\u001b[0m         \u001b[0;32mtry\u001b[0m\u001b[0;34m:\u001b[0m\u001b[0;34m\u001b[0m\u001b[0;34m\u001b[0m\u001b[0m\n\u001b[0;32m---> 10\u001b[0;31m             \u001b[0mexpression\u001b[0m \u001b[0;34m=\u001b[0m \u001b[0minput\u001b[0m\u001b[0;34m(\u001b[0m\u001b[0;34m\"계산식을 입력하세요 (또는 'exit' 입력): \"\u001b[0m\u001b[0;34m)\u001b[0m\u001b[0;34m\u001b[0m\u001b[0;34m\u001b[0m\u001b[0m\n\u001b[0m\u001b[1;32m     11\u001b[0m             \u001b[0;32mif\u001b[0m \u001b[0mexpression\u001b[0m\u001b[0;34m.\u001b[0m\u001b[0mlower\u001b[0m\u001b[0;34m(\u001b[0m\u001b[0;34m)\u001b[0m \u001b[0;34m==\u001b[0m \u001b[0;34m'exit'\u001b[0m\u001b[0;34m:\u001b[0m\u001b[0;34m\u001b[0m\u001b[0;34m\u001b[0m\u001b[0m\n\u001b[1;32m     12\u001b[0m                 \u001b[0;32mbreak\u001b[0m\u001b[0;34m\u001b[0m\u001b[0;34m\u001b[0m\u001b[0m\n",
            "\u001b[0;32m/usr/local/lib/python3.11/dist-packages/ipykernel/kernelbase.py\u001b[0m in \u001b[0;36mraw_input\u001b[0;34m(self, prompt)\u001b[0m\n\u001b[1;32m   1175\u001b[0m                 \u001b[0;34m\"raw_input was called, but this frontend does not support input requests.\"\u001b[0m\u001b[0;34m\u001b[0m\u001b[0;34m\u001b[0m\u001b[0m\n\u001b[1;32m   1176\u001b[0m             )\n\u001b[0;32m-> 1177\u001b[0;31m         return self._input_request(\n\u001b[0m\u001b[1;32m   1178\u001b[0m             \u001b[0mstr\u001b[0m\u001b[0;34m(\u001b[0m\u001b[0mprompt\u001b[0m\u001b[0;34m)\u001b[0m\u001b[0;34m,\u001b[0m\u001b[0;34m\u001b[0m\u001b[0;34m\u001b[0m\u001b[0m\n\u001b[1;32m   1179\u001b[0m             \u001b[0mself\u001b[0m\u001b[0;34m.\u001b[0m\u001b[0m_parent_ident\u001b[0m\u001b[0;34m[\u001b[0m\u001b[0;34m\"shell\"\u001b[0m\u001b[0;34m]\u001b[0m\u001b[0;34m,\u001b[0m\u001b[0;34m\u001b[0m\u001b[0;34m\u001b[0m\u001b[0m\n",
            "\u001b[0;32m/usr/local/lib/python3.11/dist-packages/ipykernel/kernelbase.py\u001b[0m in \u001b[0;36m_input_request\u001b[0;34m(self, prompt, ident, parent, password)\u001b[0m\n\u001b[1;32m   1217\u001b[0m             \u001b[0;32mexcept\u001b[0m \u001b[0mKeyboardInterrupt\u001b[0m\u001b[0;34m:\u001b[0m\u001b[0;34m\u001b[0m\u001b[0;34m\u001b[0m\u001b[0m\n\u001b[1;32m   1218\u001b[0m                 \u001b[0;31m# re-raise KeyboardInterrupt, to truncate traceback\u001b[0m\u001b[0;34m\u001b[0m\u001b[0;34m\u001b[0m\u001b[0m\n\u001b[0;32m-> 1219\u001b[0;31m                 \u001b[0;32mraise\u001b[0m \u001b[0mKeyboardInterrupt\u001b[0m\u001b[0;34m(\u001b[0m\u001b[0;34m\"Interrupted by user\"\u001b[0m\u001b[0;34m)\u001b[0m \u001b[0;32mfrom\u001b[0m \u001b[0;32mNone\u001b[0m\u001b[0;34m\u001b[0m\u001b[0;34m\u001b[0m\u001b[0m\n\u001b[0m\u001b[1;32m   1220\u001b[0m             \u001b[0;32mexcept\u001b[0m \u001b[0mException\u001b[0m\u001b[0;34m:\u001b[0m\u001b[0;34m\u001b[0m\u001b[0;34m\u001b[0m\u001b[0m\n\u001b[1;32m   1221\u001b[0m                 \u001b[0mself\u001b[0m\u001b[0;34m.\u001b[0m\u001b[0mlog\u001b[0m\u001b[0;34m.\u001b[0m\u001b[0mwarning\u001b[0m\u001b[0;34m(\u001b[0m\u001b[0;34m\"Invalid Message:\"\u001b[0m\u001b[0;34m,\u001b[0m \u001b[0mexc_info\u001b[0m\u001b[0;34m=\u001b[0m\u001b[0;32mTrue\u001b[0m\u001b[0;34m)\u001b[0m\u001b[0;34m\u001b[0m\u001b[0;34m\u001b[0m\u001b[0m\n",
            "\u001b[0;31mKeyboardInterrupt\u001b[0m: Interrupted by user"
          ]
        }
      ],
      "source": [
        "# prompt: 공학용 계산기 만들기\n",
        "\n",
        "import math\n",
        "\n",
        "def calculate():\n",
        "    \"\"\"공학용 계산기 기능을 제공하는 함수입니다.\"\"\"\n",
        "\n",
        "    while True:\n",
        "        print(\"\\n다음 연산 중 하나를 선택하세요:\")\n",
        "        print(\"1. 덧셈 (+)\")\n",
        "        print(\"2. 뺄셈 (-)\")\n",
        "        print(\"3. 곱셈 (*)\")\n",
        "        print(\"4. 나눗셈 (/)\")\n",
        "        print(\"5. 제곱 (**)\")\n",
        "        print(\"6. 제곱근 (sqrt)\")\n",
        "        print(\"7. 로그 (log)\")\n",
        "        print(\"8. 사인 (sin)\")\n",
        "        print(\"9. 코사인 (cos)\")\n",
        "        print(\"10. 탄젠트 (tan)\")\n",
        "        print(\"11. 종료\")\n",
        "\n",
        "        choice = input(\"선택 (1-11): \")\n",
        "\n",
        "        if choice == '11':\n",
        "            break\n",
        "\n",
        "        try:\n",
        "            if choice in ('1', '2', '3', '4', '5'):\n",
        "                num1 = float(input(\"첫 번째 숫자를 입력하세요: \"))\n",
        "                num2 = float(input(\"두 번째 숫자를 입력하세요: \"))\n",
        "\n",
        "                if choice == '1':\n",
        "                    result = num1 + num2\n",
        "                elif choice == '2':\n",
        "                    result = num1 - num2\n",
        "                elif choice == '3':\n",
        "                    result = num1 * num2\n",
        "                elif choice == '4':\n",
        "                    if num2 == 0:\n",
        "                        print(\"0으로 나눌 수 없습니다.\")\n",
        "                        continue\n",
        "                    result = num1 / num2\n",
        "                elif choice == '5':\n",
        "                    result = num1 ** num2\n",
        "            elif choice in ('6', '7', '8', '9', '10'):\n",
        "                num = float(input(\"숫자를 입력하세요: \"))\n",
        "\n",
        "                if choice == '6':\n",
        "                    if num < 0:\n",
        "                        print(\"음수의 제곱근은 계산할 수 없습니다.\")\n",
        "                        continue\n",
        "                    result = math.sqrt(num)\n",
        "                elif choice == '7':\n",
        "                    if num <= 0:\n",
        "                        print(\"양수만 입력해주세요\")\n",
        "                        continue\n",
        "                    result = math.log(num)\n",
        "                elif choice == '8':\n",
        "                    result = math.sin(math.radians(num)) # 각도를 라디안으로 변환\n",
        "                elif choice == '9':\n",
        "                    result = math.cos(math.radians(num))\n",
        "                elif choice == '10':\n",
        "                    result = math.tan(math.radians(num))\n",
        "            else:\n",
        "                print(\"잘못된 입력입니다.\")\n",
        "                continue\n",
        "\n",
        "            print(\"결과:\", result)\n",
        "\n",
        "        except ValueError:\n",
        "            print(\"잘못된 숫자 형식입니다.\")\n",
        "        except Exception as e:\n",
        "            print(f\"오류 발생: {e}\")\n",
        "\n",
        "if __name__ == \"__main__\":\n",
        "    calculate()\n"
      ]
    },
    {
      "cell_type": "markdown",
      "source": [
        "# 새 섹션"
      ],
      "metadata": {
        "id": "5TmEFCBhHZ8P"
      }
    },
    {
      "cell_type": "markdown",
      "source": [
        "##코드 설명\n",
        "\n",
        "본 프로젝트는 많은 학생들이 **공학용 계산기**를 구매해야하는 문제를 해결하기 위해 만들었다. 예를 들어 $x^6$를 계산하기 어렵다"
      ],
      "metadata": {
        "id": "ebeP2YhrFZjc"
      }
    },
    {
      "cell_type": "code",
      "source": [
        "# @title 기본 제목 텍스트\n",
        "x=2\n",
        "\n",
        "x6 = x*x*x*x*x*x\n",
        "x6"
      ],
      "metadata": {
        "colab": {
          "base_uri": "https://localhost:8080/"
        },
        "id": "gLRgf9cPGXT_",
        "outputId": "aea05a58-1930-4b93-8937-1ecb4bd5851b"
      },
      "execution_count": 11,
      "outputs": [
        {
          "output_type": "execute_result",
          "data": {
            "text/plain": [
              "64"
            ]
          },
          "metadata": {},
          "execution_count": 11
        }
      ]
    }
  ]
}